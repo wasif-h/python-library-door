{
 "cells": [
  {
   "cell_type": "markdown",
   "id": "bc35b0e1-a40c-4203-aac4-b252283b6360",
   "metadata": {},
   "source": [
    "# Let's Explore `Numpy` - An Awesome Python Library"
   ]
  },
  {
   "cell_type": "markdown",
   "id": "99620191-2245-43e6-bcd4-5e119af4c1d0",
   "metadata": {},
   "source": [
    "**NumPy** - one of the most widely used libraries for numerical computations in Python. It provides support for handling arrays, matrices, and many mathematical functions efficiently.\n",
    "\n",
    "`Numpy Documentation`\n",
    "1. Official : \n",
    "2. W3School : https://www.w3schools.com/python/numpy/numpy_intro.asp\n",
    "\n",
    "### 1. **Installing NumPy**\n",
    "If you haven't installed NumPy yet, you can install it using:\n",
    "```bash\n",
    "pip install numpy\n",
    "```\n",
    "\n",
    "### 2. **Importing NumPy**\n",
    "After installing, you can import it with the following convention (alias `np` is common):\n",
    "```python\n",
    "import numpy as np\n",
    "```\n",
    "\n",
    "### 3. **Key Features of NumPy**\n",
    "- **N-dimensional array (ndarray)**: NumPy provides the `ndarray` object, which is a powerful n-dimensional array.\n",
    "- **Broadcasting**: It allows operations on arrays of different shapes.\n",
    "- **Vectorized operations**: Faster element-wise operations compared to Python lists.\n",
    "- **Linear algebra**: Provides functions for linear algebra operations, such as dot products, matrix multiplication, etc.\n",
    "- **Random sampling**: Built-in functions to generate random numbers and distributions.\n",
    "\n",
    "  Here’s a comparison between **NumPy arrays** and **Python lists**\n",
    "\n",
    "| **Feature**                | **NumPy Array**                                         | **Python List**                                        |\n",
    "|----------------------------|--------------------------------------------------------|--------------------------------------------------------|\n",
    "| **Data Type**               | Homogeneous: All elements must be of the same data type. | Heterogeneous: Can contain elements of different types. |\n",
    "| **Memory Efficiency**       | More memory efficient due to fixed data type.           | Less memory efficient because of flexible data types.   |\n",
    "| **Speed**                   | Faster for large datasets due to optimized C-based operations. | Slower for large datasets, as it operates at a higher level. |\n",
    "| **Mathematical Operations** | Supports element-wise and vectorized operations.        | Requires loops or list comprehensions for element-wise operations. |\n",
    "| **Multidimensional Data**   | Supports multi-dimensional arrays (2D, 3D, etc.) directly. | Requires nested lists for multi-dimensional data.       |\n",
    "| **Indexing**                | Advanced indexing and slicing options, including boolean indexing. | Basic indexing and slicing; no advanced features.       |\n",
    "| **Functionality**           | Extensive mathematical functions and statistical operations available. | Limited to basic Python built-in functions.             |\n",
    "| **Broadcasting**            | Supports broadcasting, allowing operations on arrays of different shapes. | No broadcasting support. Manual iteration is required for such operations. |\n",
    "| **Memory Contiguity**       | Uses contiguous blocks of memory for efficient storage. | Elements are stored as references, leading to scattered memory locations. |\n",
    "| **Flexibility**             | Less flexible in terms of mixed data types.             | More flexible, allows different data types in the same list. |\n",
    "| **Usage**                   | Primarily used for numerical and scientific computing.   | General-purpose, suitable for various types of data and applications. |\n",
    "| **Dependencies**            | Requires installation of the NumPy library.             | No external library needed, built into Python.          |\n",
    "| **Appending/Modifying Elements** | More complex when resizing, as arrays are fixed-size (but NumPy offers resizing functions like `np.append()`). | Easier to modify dynamically, allows appending and removing elements. |\n",
    "| **Memory Consumption**      | Consumes less memory for large datasets due to contiguous allocation. | Consumes more memory due to dynamic type references. |\n",
    "\n",
    "\n",
    "\n",
    "\n",
    "### 4. **Creating NumPy Arrays**\n",
    "You can create NumPy arrays from Python lists or tuples using `np.array()`.\n",
    "\n",
    "#### Example: Creating arrays\n",
    "```python\n",
    "import numpy as np\n",
    "\n",
    "# 1D array\n",
    "arr1 = np.array([1, 2, 3, 4])\n",
    "print(arr1)\n",
    "\n",
    "# 2D array\n",
    "arr2 = np.array([[1, 2], [3, 4]])\n",
    "print(arr2)\n",
    "```\n",
    "\n",
    "### 5. **Array Attributes**\n",
    "Some useful attributes of NumPy arrays include:\n",
    "- `ndarray.shape`: Gives the dimensions of the array.\n",
    "- `ndarray.ndim`: Returns the number of dimensions.\n",
    "- `ndarray.size`: Gives the total number of elements.\n",
    "- `ndarray.dtype`: Returns the data type of the array.\n",
    "\n",
    "#### Example:\n",
    "```python\n",
    "arr = np.array([[1, 2, 3], [4, 5, 6]])\n",
    "\n",
    "print(\"Shape:\", arr.shape)\n",
    "print(\"Number of dimensions:\", arr.ndim)\n",
    "print(\"Number of elements:\", arr.size)\n",
    "print(\"Data type:\", arr.dtype)\n",
    "```\n",
    "\n",
    "### 6. **Creating Arrays with Predefined Values**\n",
    "NumPy provides several functions to create arrays with specific values:\n",
    "\n",
    "- `np.zeros(shape)`: Creates an array filled with zeros.\n",
    "- `np.ones(shape)`: Creates an array filled with ones.\n",
    "- `np.eye(n)`: Creates an identity matrix of size `n x n`.\n",
    "- `np.arange(start, stop, step)`: Returns evenly spaced values within a range.\n",
    "- `np.linspace(start, stop, num)`: Returns evenly spaced numbers over a specified interval.\n",
    "\n",
    "#### Example:\n",
    "```python\n",
    "# Array of zeros\n",
    "zeros_arr = np.zeros((2, 3))  # 2 rows, 3 columns\n",
    "print(\"Array of zeros:\\n\", zeros_arr)\n",
    "\n",
    "# Array of ones\n",
    "ones_arr = np.ones((2, 2))  # 2x2 matrix\n",
    "print(\"Array of ones:\\n\", ones_arr)\n",
    "\n",
    "# Identity matrix\n",
    "identity_matrix = np.eye(3)\n",
    "print(\"Identity matrix:\\n\", identity_matrix)\n",
    "\n",
    "# Range of values\n",
    "range_arr = np.arange(0, 10, 2)\n",
    "print(\"Range of values:\\n\", range_arr)\n",
    "\n",
    "# Evenly spaced numbers\n",
    "linspace_arr = np.linspace(0, 1, 5)\n",
    "print(\"Linspace array:\\n\", linspace_arr)\n",
    "```\n",
    "\n",
    "### 7. **Basic Array Operations**\n",
    "NumPy arrays support element-wise operations, which means you can perform arithmetic operations directly on arrays.\n",
    "\n",
    "#### Example:\n",
    "```python\n",
    "arr1 = np.array([1, 2, 3])\n",
    "arr2 = np.array([4, 5, 6])\n",
    "\n",
    "# Element-wise addition\n",
    "sum_arr = arr1 + arr2\n",
    "print(\"Sum:\\n\", sum_arr)\n",
    "\n",
    "# Element-wise multiplication\n",
    "prod_arr = arr1 * arr2\n",
    "print(\"Product:\\n\", prod_arr)\n",
    "\n",
    "# Scalar addition\n",
    "scalar_add = arr1 + 10\n",
    "print(\"Scalar addition:\\n\", scalar_add)\n",
    "```\n",
    "\n",
    "### 8. **Indexing and Slicing**\n",
    "You can access elements of NumPy arrays similar to lists and use slicing to get a sub-array.\n",
    "\n",
    "#### Example:\n",
    "```python\n",
    "arr = np.array([[1, 2, 3], [4, 5, 6], [7, 8, 9]])\n",
    "\n",
    "# Access element at row 1, column 2\n",
    "print(\"Element at (1, 2):\", arr[1, 2])\n",
    "\n",
    "# Get a sub-array (slice)\n",
    "sub_arr = arr[1:, 1:]  # From row 1 onward, column 1 onward\n",
    "print(\"Sub-array:\\n\", sub_arr)\n",
    "```\n",
    "\n",
    "### 9. **Reshaping Arrays**\n",
    "You can reshape arrays using `reshape()`.\n",
    "\n",
    "#### Example:\n",
    "```python\n",
    "arr = np.array([1, 2, 3, 4, 5, 6])\n",
    "\n",
    "# Reshape the array into 2 rows, 3 columns\n",
    "reshaped_arr = arr.reshape(2, 3)\n",
    "print(\"Reshaped array:\\n\", reshaped_arr)\n",
    "```\n",
    "\n",
    "### 10. **Broadcasting**\n",
    "NumPy automatically handles arrays of different shapes in operations by \"broadcasting\" them to compatible shapes.\n",
    "\n",
    "#### Example:\n",
    "```python\n",
    "arr = np.array([[1, 2, 3], [4, 5, 6]])\n",
    "\n",
    "# Broadcasting a scalar to the entire array\n",
    "print(arr + 10)\n",
    "```\n",
    "\n",
    "### 11. **Random Number Generation**\n",
    "NumPy’s `random` module allows generating random numbers and arrays.\n",
    "\n",
    "#### Example:\n",
    "```python\n",
    "# Random numbers between 0 and 1\n",
    "rand_arr = np.random.rand(3, 3)  # 3x3 matrix of random values\n",
    "print(\"Random array:\\n\", rand_arr)\n",
    "\n",
    "# Random integers\n",
    "rand_ints = np.random.randint(1, 10, size=(2, 3))  # 2x3 matrix of random ints between 1 and 9\n",
    "print(\"Random integers:\\n\", rand_ints)\n",
    "```\n",
    "\n",
    "### 12. **Linear Algebra**\n",
    "NumPy provides useful linear algebra functions like `dot()`, `transpose()`, etc.\n",
    "\n",
    "#### Example:\n",
    "```python\n",
    "# Dot product of two arrays\n",
    "arr1 = np.array([[1, 2], [3, 4]])\n",
    "arr2 = np.array([[5, 6], [7, 8]])\n",
    "\n",
    "dot_product = np.dot(arr1, arr2)\n",
    "print(\"Dot product:\\n\", dot_product)\n",
    "```\n",
    "\n",
    "---\n"
   ]
  },
  {
   "cell_type": "markdown",
   "id": "53e09015-5bda-492f-a297-7197e8774867",
   "metadata": {},
   "source": [
    "# Practice and Special Notes"
   ]
  },
  {
   "cell_type": "code",
   "execution_count": 2,
   "id": "abf19d86-3105-4d35-9209-3be30ba6edb8",
   "metadata": {},
   "outputs": [],
   "source": [
    "import numpy as np\n",
    "import sys"
   ]
  },
  {
   "cell_type": "code",
   "execution_count": 3,
   "id": "088a9ee7-614c-4310-8874-0a205178c2ae",
   "metadata": {},
   "outputs": [],
   "source": [
    "a = np.array([1,2,3])\n",
    "b = np.array([[4,5,6],[7,8,9]])\n",
    "c = np.array([10.2,56.5,87.1], dtype = 'int64') #1D\n",
    "m = np.array([[1,2,3,4,5,6,7,8,9],[9,8,7,6,5,4,3,2,1]]) #2D\n",
    "n = np.array([[[4,5,6],[7,8,9]], [[10,11,12],[13,14,16]],[[21,22,23],[41,45,48]]]) #3D"
   ]
  },
  {
   "cell_type": "code",
   "execution_count": 4,
   "id": "c4946332-e1db-453e-823f-44cad17f32fa",
   "metadata": {},
   "outputs": [
    {
     "name": "stdout",
     "output_type": "stream",
     "text": [
      "1\n",
      "2\n"
     ]
    }
   ],
   "source": [
    "# Dimantion\n",
    "print(a.ndim)\n",
    "print(b.ndim)"
   ]
  },
  {
   "cell_type": "code",
   "execution_count": 5,
   "id": "6d9044d2-b696-4cf8-82d4-86bc7aaca39c",
   "metadata": {},
   "outputs": [
    {
     "data": {
      "text/plain": [
       "(2, 3)"
      ]
     },
     "execution_count": 5,
     "metadata": {},
     "output_type": "execute_result"
    }
   ],
   "source": [
    "# Get shape\n",
    "b.shape"
   ]
  },
  {
   "cell_type": "code",
   "execution_count": 6,
   "id": "e7b47bf6-d7f3-45b5-988f-cfe52268963e",
   "metadata": {},
   "outputs": [
    {
     "data": {
      "text/plain": [
       "dtype('int32')"
      ]
     },
     "execution_count": 6,
     "metadata": {},
     "output_type": "execute_result"
    }
   ],
   "source": [
    "# get type\n",
    "\n",
    "b.dtype"
   ]
  },
  {
   "cell_type": "code",
   "execution_count": 7,
   "id": "b6f634e6-495b-48a1-bd89-1858737dc453",
   "metadata": {},
   "outputs": [
    {
     "data": {
      "text/plain": [
       "4"
      ]
     },
     "execution_count": 7,
     "metadata": {},
     "output_type": "execute_result"
    }
   ],
   "source": [
    "# item size\n",
    "a.itemsize"
   ]
  },
  {
   "cell_type": "code",
   "execution_count": 8,
   "id": "90015f22-24c8-4ae2-a4e6-b5c80d16a468",
   "metadata": {},
   "outputs": [
    {
     "data": {
      "text/plain": [
       "12"
      ]
     },
     "execution_count": 8,
     "metadata": {},
     "output_type": "execute_result"
    }
   ],
   "source": [
    "# total size\n",
    "a.nbytes"
   ]
  },
  {
   "cell_type": "code",
   "execution_count": 9,
   "id": "c8689795-8fde-46b1-b32f-43acb8bf4538",
   "metadata": {},
   "outputs": [
    {
     "data": {
      "text/plain": [
       "24"
      ]
     },
     "execution_count": 9,
     "metadata": {},
     "output_type": "execute_result"
    }
   ],
   "source": [
    "c.nbytes"
   ]
  },
  {
   "cell_type": "code",
   "execution_count": 10,
   "id": "2b0d6b48-406b-43b2-b019-af6bdeb98a1a",
   "metadata": {},
   "outputs": [
    {
     "data": {
      "text/plain": [
       "array([[1, 2, 3, 4, 5, 6, 7, 8, 9],\n",
       "       [9, 8, 7, 6, 5, 4, 3, 2, 1]])"
      ]
     },
     "execution_count": 10,
     "metadata": {},
     "output_type": "execute_result"
    }
   ],
   "source": [
    "m"
   ]
  },
  {
   "cell_type": "code",
   "execution_count": 11,
   "id": "11e6a662-3e49-426a-82a7-a02885d2374f",
   "metadata": {},
   "outputs": [
    {
     "data": {
      "text/plain": [
       "8"
      ]
     },
     "execution_count": 11,
     "metadata": {},
     "output_type": "execute_result"
    }
   ],
   "source": [
    "# specific element name[r,c] expl : 8 of 2nd list\n",
    "m[1,1]"
   ]
  },
  {
   "cell_type": "code",
   "execution_count": 12,
   "id": "eaf3855e-e51e-413c-9e9b-443becb36119",
   "metadata": {},
   "outputs": [
    {
     "data": {
      "text/plain": [
       "array([9, 8, 7, 6, 5, 4, 3, 2, 1])"
      ]
     },
     "execution_count": 12,
     "metadata": {},
     "output_type": "execute_result"
    }
   ],
   "source": [
    "# row - 2nd list\n",
    "m[1 , :]"
   ]
  },
  {
   "cell_type": "code",
   "execution_count": 13,
   "id": "1744c64a-343f-491e-b92f-dc9aa0b2f103",
   "metadata": {},
   "outputs": [
    {
     "data": {
      "text/plain": [
       "array([3, 7])"
      ]
     },
     "execution_count": 13,
     "metadata": {},
     "output_type": "execute_result"
    }
   ],
   "source": [
    "# col - 3,7\n",
    "m[:, 2]"
   ]
  },
  {
   "cell_type": "code",
   "execution_count": 14,
   "id": "19007677-c90a-461a-9811-0ee61113321e",
   "metadata": {},
   "outputs": [
    {
     "data": {
      "text/plain": [
       "array([[1, 2, 3, 4, 5, 6, 7, 8, 9],\n",
       "       [9, 8, 7, 6, 5, 4, 3, 2, 1]])"
      ]
     },
     "execution_count": 14,
     "metadata": {},
     "output_type": "execute_result"
    }
   ],
   "source": [
    "m"
   ]
  },
  {
   "cell_type": "code",
   "execution_count": 15,
   "id": "57758198-2de1-411d-832c-fd97a3687195",
   "metadata": {},
   "outputs": [
    {
     "data": {
      "text/plain": [
       "array([3, 4, 5, 6, 7])"
      ]
     },
     "execution_count": 15,
     "metadata": {},
     "output_type": "execute_result"
    }
   ],
   "source": [
    "# row slicing 3 to 7\n",
    "m[0, 2:7:1]"
   ]
  },
  {
   "cell_type": "code",
   "execution_count": 16,
   "id": "fc1487cb-7179-4a22-b577-ba04c168855c",
   "metadata": {},
   "outputs": [
    {
     "data": {
      "text/plain": [
       "array([[ 1,  2,  3,  4,  5,  6,  7,  8,  9],\n",
       "       [99,  8,  7,  6,  5,  4,  3,  2,  1]])"
      ]
     },
     "execution_count": 16,
     "metadata": {},
     "output_type": "execute_result"
    }
   ],
   "source": [
    "# change value\n",
    "m[1,0] = 99\n",
    "m"
   ]
  },
  {
   "cell_type": "code",
   "execution_count": 17,
   "id": "b2531d0e-a758-4498-bf2d-02620b2068b1",
   "metadata": {},
   "outputs": [
    {
     "data": {
      "text/plain": [
       "array([[ 1,  5, 34,  4,  5,  6,  7,  8,  9],\n",
       "       [99,  5, 43,  6,  5,  4,  3,  2,  1]])"
      ]
     },
     "execution_count": 17,
     "metadata": {},
     "output_type": "execute_result"
    }
   ],
   "source": [
    "# change column\n",
    "m[:, 1] = 5\n",
    "m[:, 2] = [34,43]\n",
    "m"
   ]
  },
  {
   "cell_type": "code",
   "execution_count": 18,
   "id": "b604263f-1a74-444c-b62b-ea7b8064bc89",
   "metadata": {},
   "outputs": [
    {
     "data": {
      "text/plain": [
       "array([[[ 4,  5,  6],\n",
       "        [ 7,  8,  9]],\n",
       "\n",
       "       [[10, 11, 12],\n",
       "        [13, 14, 16]],\n",
       "\n",
       "       [[21, 22, 23],\n",
       "        [41, 45, 48]]])"
      ]
     },
     "execution_count": 18,
     "metadata": {},
     "output_type": "execute_result"
    }
   ],
   "source": [
    "# 3D array\n",
    "n"
   ]
  },
  {
   "cell_type": "code",
   "execution_count": 19,
   "id": "8de40dd0-d50d-491c-8427-ff50f2d29237",
   "metadata": {},
   "outputs": [
    {
     "data": {
      "text/plain": [
       "array([[ 7,  8,  9],\n",
       "       [13, 14, 16],\n",
       "       [41, 45, 48]])"
      ]
     },
     "execution_count": 19,
     "metadata": {},
     "output_type": "execute_result"
    }
   ],
   "source": [
    "n[:,1,:]\n",
    "# : means all of them\n",
    "# [big row, small row, col]"
   ]
  },
  {
   "cell_type": "code",
   "execution_count": 20,
   "id": "820368d4-f16e-42ec-9984-94339e6b2112",
   "metadata": {},
   "outputs": [
    {
     "data": {
      "text/plain": [
       "array([[8, 9]])"
      ]
     },
     "execution_count": 20,
     "metadata": {},
     "output_type": "execute_result"
    }
   ],
   "source": [
    "n[:1,1,1:]"
   ]
  },
  {
   "cell_type": "markdown",
   "id": "8bb9f6d3-02ef-4378-93d5-1a437691ea85",
   "metadata": {},
   "source": [
    "`Automatic Value Fill`"
   ]
  },
  {
   "cell_type": "code",
   "execution_count": 21,
   "id": "a9bb9eec-9cba-4d5a-bf3d-be8ec0a0b6c2",
   "metadata": {},
   "outputs": [
    {
     "data": {
      "text/plain": [
       "array([[0., 0., 0.],\n",
       "       [0., 0., 0.],\n",
       "       [0., 0., 0.]])"
      ]
     },
     "execution_count": 21,
     "metadata": {},
     "output_type": "execute_result"
    }
   ],
   "source": [
    "np.zeros([3,3])"
   ]
  },
  {
   "cell_type": "code",
   "execution_count": 22,
   "id": "a52f7a1b-fdfc-4779-a439-f4ccc3aaf044",
   "metadata": {},
   "outputs": [
    {
     "data": {
      "text/plain": [
       "array([[[1., 1.],\n",
       "        [1., 1.]],\n",
       "\n",
       "       [[1., 1.],\n",
       "        [1., 1.]]])"
      ]
     },
     "execution_count": 22,
     "metadata": {},
     "output_type": "execute_result"
    }
   ],
   "source": [
    "np.ones([2,2,2])"
   ]
  },
  {
   "cell_type": "code",
   "execution_count": 23,
   "id": "49416fa2-1831-4275-8818-e5271bd3c992",
   "metadata": {},
   "outputs": [
    {
     "data": {
      "text/plain": [
       "array([[69, 69, 69],\n",
       "       [69, 69, 69],\n",
       "       [69, 69, 69]])"
      ]
     },
     "execution_count": 23,
     "metadata": {},
     "output_type": "execute_result"
    }
   ],
   "source": [
    "np.full([3,3],69)"
   ]
  },
  {
   "cell_type": "code",
   "execution_count": 24,
   "id": "6f610dae-8406-4c58-acf7-f8d39791fe91",
   "metadata": {},
   "outputs": [
    {
     "data": {
      "text/plain": [
       "array([[[8, 3, 6],\n",
       "        [8, 6, 9],\n",
       "        [3, 1, 2]],\n",
       "\n",
       "       [[7, 5, 8],\n",
       "        [7, 6, 9],\n",
       "        [6, 7, 6]],\n",
       "\n",
       "       [[4, 9, 4],\n",
       "        [7, 5, 8],\n",
       "        [3, 9, 3]]])"
      ]
     },
     "execution_count": 24,
     "metadata": {},
     "output_type": "execute_result"
    }
   ],
   "source": [
    "np.random.randint(1,10,size=[3,3,3])"
   ]
  },
  {
   "cell_type": "code",
   "execution_count": 25,
   "id": "88e23003-cad1-466c-bef1-fbede3c73bce",
   "metadata": {},
   "outputs": [],
   "source": [
    "arr = np.array(\n",
    "      [[[4, 9, 4],\n",
    "        [7, 2, 8],\n",
    "        [6, 8, 8]],\n",
    "\n",
    "       [[8, 5, 3],\n",
    "        [5, 6, 7],\n",
    "        [3, 7, 3]],\n",
    "\n",
    "       [[1, 8, 8],\n",
    "        [2, 8, 1],\n",
    "        [8, 7, 3]]])"
   ]
  },
  {
   "cell_type": "code",
   "execution_count": 26,
   "id": "be1e2028-a3b7-43c4-89c0-df78e04ddcc9",
   "metadata": {},
   "outputs": [
    {
     "data": {
      "text/plain": [
       "array([[0.94456517, 0.98460144, 0.81042711],\n",
       "       [0.01033147, 0.44917858, 0.7959147 ],\n",
       "       [0.39845228, 0.05454689, 0.20976765]])"
      ]
     },
     "execution_count": 26,
     "metadata": {},
     "output_type": "execute_result"
    }
   ],
   "source": [
    "np.random.rand(3,3)"
   ]
  },
  {
   "cell_type": "code",
   "execution_count": 27,
   "id": "aea441cc-59c7-41db-82ff-c8d734799d16",
   "metadata": {},
   "outputs": [
    {
     "data": {
      "text/plain": [
       "array([[1., 0., 0.],\n",
       "       [0., 1., 0.],\n",
       "       [0., 0., 1.]])"
      ]
     },
     "execution_count": 27,
     "metadata": {},
     "output_type": "execute_result"
    }
   ],
   "source": [
    "np.identity(3)"
   ]
  },
  {
   "cell_type": "code",
   "execution_count": 33,
   "id": "6b270606-00b8-4916-a613-4fc5a4f5a7a1",
   "metadata": {},
   "outputs": [
    {
     "data": {
      "text/plain": [
       "array([[1, 2, 3],\n",
       "       [1, 2, 3],\n",
       "       [1, 2, 3]])"
      ]
     },
     "execution_count": 33,
     "metadata": {},
     "output_type": "execute_result"
    }
   ],
   "source": [
    "# array repeat process - axis0 means row 1 means col\n",
    "# use 2 dimenstion to repeat the entire row or col instead of repeating value\n",
    "arr = np.array([[1,2,3]])\n",
    "arr.repeat(3,axis = 0)"
   ]
  },
  {
   "cell_type": "code",
   "execution_count": 47,
   "id": "1ff46042-b951-44c5-8156-3b1029992480",
   "metadata": {},
   "outputs": [
    {
     "name": "stdout",
     "output_type": "stream",
     "text": [
      "[[1. 1. 1. 1. 1.]\n",
      " [1. 1. 1. 1. 1.]\n",
      " [1. 1. 1. 1. 1.]\n",
      " [1. 1. 1. 1. 1.]\n",
      " [1. 1. 1. 1. 1.]]\n",
      "\n",
      "[[0. 0. 0.]\n",
      " [0. 0. 0.]\n",
      " [0. 0. 0.]]\n",
      "\n",
      "[[1. 1. 1. 1. 1.]\n",
      " [1. 0. 0. 0. 1.]\n",
      " [1. 0. 0. 0. 1.]\n",
      " [1. 0. 0. 0. 1.]\n",
      " [1. 1. 1. 1. 1.]]\n"
     ]
    }
   ],
   "source": [
    "# change a bigger amount of array from another array\n",
    "\n",
    "arr = np.ones([5,5])\n",
    "arr2 = np.zeros([3,3])\n",
    "print(arr,arr2,sep = \"\\n\\n\", end = \"\\n\\n\")\n",
    "\n",
    "arr[1:4,1:4] = arr2\n",
    "print(arr)"
   ]
  },
  {
   "cell_type": "code",
   "execution_count": 50,
   "id": "85a59982-58ef-43e7-be2e-1bdc81515c50",
   "metadata": {},
   "outputs": [
    {
     "data": {
      "text/plain": [
       "array([[4, 6, 9, 3, 1, 8, 7],\n",
       "       [8, 0, 0, 0, 0, 0, 3],\n",
       "       [7, 0, 0, 0, 0, 0, 4],\n",
       "       [9, 0, 0, 0, 0, 0, 6],\n",
       "       [2, 0, 0, 0, 0, 0, 3],\n",
       "       [7, 0, 0, 0, 0, 0, 4],\n",
       "       [5, 2, 4, 4, 6, 4, 5]])"
      ]
     },
     "execution_count": 50,
     "metadata": {},
     "output_type": "execute_result"
    }
   ],
   "source": [
    "# try this with random numbers with fancy style\n",
    "\n",
    "arr = np.random.randint(1,10,size = [7,7])\n",
    "arr[1:6,1:6] = np.zeros([5,5])\n",
    "arr"
   ]
  },
  {
   "cell_type": "code",
   "execution_count": 54,
   "id": "48ecef88-79bc-460d-a3c6-b80cd011b625",
   "metadata": {},
   "outputs": [
    {
     "name": "stdout",
     "output_type": "stream",
     "text": [
      "[700   3]\n",
      "[700   3]\n",
      "Second Method\n",
      "[700   3]\n",
      "[50  3]\n"
     ]
    }
   ],
   "source": [
    "# array points the same object with different name so copying array is a careful task\n",
    "\n",
    "a = np.array([1,3])\n",
    "b = a\n",
    "b[0] = 700\n",
    "print(a)\n",
    "print(b)\n",
    "\n",
    "# to change this problem use copy() method\n",
    "print(\"Second Method\")\n",
    "b = a.copy()\n",
    "b[0] = 50\n",
    "print(a)\n",
    "print(b)"
   ]
  },
  {
   "cell_type": "markdown",
   "id": "08086547-b06f-46e8-95a3-d5cdb048fc80",
   "metadata": {},
   "source": [
    "# Math with Numpy"
   ]
  },
  {
   "cell_type": "code",
   "execution_count": 55,
   "id": "ef7a1f8f-047e-453d-b928-406df848a010",
   "metadata": {},
   "outputs": [],
   "source": [
    "# numpy calculate with individual elements all time"
   ]
  },
  {
   "cell_type": "code",
   "execution_count": 57,
   "id": "d96134e1-f9e9-4b76-8a95-9127ce297202",
   "metadata": {},
   "outputs": [
    {
     "name": "stdout",
     "output_type": "stream",
     "text": [
      "[[4 4 4]\n",
      " [4 4 4]\n",
      " [4 4 4]]\n",
      "[[1 3 8]\n",
      " [6 8 7]\n",
      " [7 8 5]]\n"
     ]
    }
   ],
   "source": [
    "a = np.full([3,3],4)\n",
    "b = np.random.randint(1,9,size = [3,3])\n",
    "print(a)\n",
    "print(b)"
   ]
  },
  {
   "cell_type": "code",
   "execution_count": 58,
   "id": "cfd90a52-349b-48be-be95-72ead41b87aa",
   "metadata": {},
   "outputs": [
    {
     "data": {
      "text/plain": [
       "array([[ 5,  7, 12],\n",
       "       [10, 12, 11],\n",
       "       [11, 12,  9]])"
      ]
     },
     "execution_count": 58,
     "metadata": {},
     "output_type": "execute_result"
    }
   ],
   "source": [
    "a + b"
   ]
  },
  {
   "cell_type": "code",
   "execution_count": 60,
   "id": "918877f3-d1a1-426b-8677-af9789205436",
   "metadata": {},
   "outputs": [
    {
     "data": {
      "text/plain": [
       "array([[    4,    64, 65536],\n",
       "       [ 4096, 65536, 16384],\n",
       "       [16384, 65536,  1024]])"
      ]
     },
     "execution_count": 60,
     "metadata": {},
     "output_type": "execute_result"
    }
   ],
   "source": [
    "a ** b"
   ]
  },
  {
   "cell_type": "code",
   "execution_count": 59,
   "id": "bbdabfc4-5f30-4e14-98af-49f851a94896",
   "metadata": {},
   "outputs": [
    {
     "data": {
      "text/plain": [
       "array([[ 4, 12, 32],\n",
       "       [24, 32, 28],\n",
       "       [28, 32, 20]])"
      ]
     },
     "execution_count": 59,
     "metadata": {},
     "output_type": "execute_result"
    }
   ],
   "source": [
    "a * b\n",
    "# this is not matrix mulptiplication."
   ]
  },
  {
   "cell_type": "code",
   "execution_count": 62,
   "id": "f06a71a3-8475-47a4-bb68-0e2991ac55b8",
   "metadata": {},
   "outputs": [
    {
     "data": {
      "text/plain": [
       "array([[56, 76, 80],\n",
       "       [56, 76, 80],\n",
       "       [56, 76, 80]])"
      ]
     },
     "execution_count": 62,
     "metadata": {},
     "output_type": "execute_result"
    }
   ],
   "source": [
    "# for matrix multiplication\n",
    "c = np.matmul(a,b)\n",
    "c"
   ]
  },
  {
   "cell_type": "code",
   "execution_count": 65,
   "id": "773ef399-106a-4667-a8b7-55587481ee4b",
   "metadata": {},
   "outputs": [
    {
     "data": {
      "text/plain": [
       "-23.00000000000001"
      ]
     },
     "execution_count": 65,
     "metadata": {},
     "output_type": "execute_result"
    }
   ],
   "source": [
    "# find the determiner\n",
    "np.linalg.det(b)"
   ]
  },
  {
   "cell_type": "code",
   "execution_count": null,
   "id": "e820de1d-0c34-4e48-8ec2-ef1f06e7010b",
   "metadata": {},
   "outputs": [],
   "source": []
  }
 ],
 "metadata": {
  "kernelspec": {
   "display_name": "Python 3 (ipykernel)",
   "language": "python",
   "name": "python3"
  },
  "language_info": {
   "codemirror_mode": {
    "name": "ipython",
    "version": 3
   },
   "file_extension": ".py",
   "mimetype": "text/x-python",
   "name": "python",
   "nbconvert_exporter": "python",
   "pygments_lexer": "ipython3",
   "version": "3.12.6"
  },
  "widgets": {
   "application/vnd.jupyter.widget-state+json": {
    "state": {},
    "version_major": 2,
    "version_minor": 0
   }
  }
 },
 "nbformat": 4,
 "nbformat_minor": 5
}
