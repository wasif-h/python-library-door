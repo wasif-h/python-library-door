{
 "cells": [
  {
   "cell_type": "markdown",
   "id": "bc35b0e1-a40c-4203-aac4-b252283b6360",
   "metadata": {},
   "source": [
    "# Let's Explore `Numpy` - An Awesome Python Library"
   ]
  },
  {
   "cell_type": "markdown",
   "id": "99620191-2245-43e6-bcd4-5e119af4c1d0",
   "metadata": {},
   "source": [
    "**NumPy** - one of the most widely used libraries for numerical computations in Python. It provides support for handling arrays, matrices, and many mathematical functions efficiently.\n",
    "\n",
    "### 1. **Installing NumPy**\n",
    "If you haven't installed NumPy yet, you can install it using:\n",
    "```bash\n",
    "pip install numpy\n",
    "```\n",
    "\n",
    "### 2. **Importing NumPy**\n",
    "After installing, you can import it with the following convention (alias `np` is common):\n",
    "```python\n",
    "import numpy as np\n",
    "```\n",
    "\n",
    "### 3. **Key Features of NumPy**\n",
    "- **N-dimensional array (ndarray)**: NumPy provides the `ndarray` object, which is a powerful n-dimensional array.\n",
    "- **Broadcasting**: It allows operations on arrays of different shapes.\n",
    "- **Vectorized operations**: Faster element-wise operations compared to Python lists.\n",
    "- **Linear algebra**: Provides functions for linear algebra operations, such as dot products, matrix multiplication, etc.\n",
    "- **Random sampling**: Built-in functions to generate random numbers and distributions.\n",
    "\n",
    "  Here’s a comparison between **NumPy arrays** and **Python lists**\n",
    "\n",
    "| **Feature**                | **NumPy Array**                                         | **Python List**                                        |\n",
    "|----------------------------|--------------------------------------------------------|--------------------------------------------------------|\n",
    "| **Data Type**               | Homogeneous: All elements must be of the same data type. | Heterogeneous: Can contain elements of different types. |\n",
    "| **Memory Efficiency**       | More memory efficient due to fixed data type.           | Less memory efficient because of flexible data types.   |\n",
    "| **Speed**                   | Faster for large datasets due to optimized C-based operations. | Slower for large datasets, as it operates at a higher level. |\n",
    "| **Mathematical Operations** | Supports element-wise and vectorized operations.        | Requires loops or list comprehensions for element-wise operations. |\n",
    "| **Multidimensional Data**   | Supports multi-dimensional arrays (2D, 3D, etc.) directly. | Requires nested lists for multi-dimensional data.       |\n",
    "| **Indexing**                | Advanced indexing and slicing options, including boolean indexing. | Basic indexing and slicing; no advanced features.       |\n",
    "| **Functionality**           | Extensive mathematical functions and statistical operations available. | Limited to basic Python built-in functions.             |\n",
    "| **Broadcasting**            | Supports broadcasting, allowing operations on arrays of different shapes. | No broadcasting support. Manual iteration is required for such operations. |\n",
    "| **Memory Contiguity**       | Uses contiguous blocks of memory for efficient storage. | Elements are stored as references, leading to scattered memory locations. |\n",
    "| **Flexibility**             | Less flexible in terms of mixed data types.             | More flexible, allows different data types in the same list. |\n",
    "| **Usage**                   | Primarily used for numerical and scientific computing.   | General-purpose, suitable for various types of data and applications. |\n",
    "| **Dependencies**            | Requires installation of the NumPy library.             | No external library needed, built into Python.          |\n",
    "| **Appending/Modifying Elements** | More complex when resizing, as arrays are fixed-size (but NumPy offers resizing functions like `np.append()`). | Easier to modify dynamically, allows appending and removing elements. |\n",
    "| **Memory Consumption**      | Consumes less memory for large datasets due to contiguous allocation. | Consumes more memory due to dynamic type references. |\n",
    "\n",
    "\n",
    "\n",
    "\n",
    "### 4. **Creating NumPy Arrays**\n",
    "You can create NumPy arrays from Python lists or tuples using `np.array()`.\n",
    "\n",
    "#### Example: Creating arrays\n",
    "```python\n",
    "import numpy as np\n",
    "\n",
    "# 1D array\n",
    "arr1 = np.array([1, 2, 3, 4])\n",
    "print(arr1)\n",
    "\n",
    "# 2D array\n",
    "arr2 = np.array([[1, 2], [3, 4]])\n",
    "print(arr2)\n",
    "```\n",
    "\n",
    "### 5. **Array Attributes**\n",
    "Some useful attributes of NumPy arrays include:\n",
    "- `ndarray.shape`: Gives the dimensions of the array.\n",
    "- `ndarray.ndim`: Returns the number of dimensions.\n",
    "- `ndarray.size`: Gives the total number of elements.\n",
    "- `ndarray.dtype`: Returns the data type of the array.\n",
    "\n",
    "#### Example:\n",
    "```python\n",
    "arr = np.array([[1, 2, 3], [4, 5, 6]])\n",
    "\n",
    "print(\"Shape:\", arr.shape)\n",
    "print(\"Number of dimensions:\", arr.ndim)\n",
    "print(\"Number of elements:\", arr.size)\n",
    "print(\"Data type:\", arr.dtype)\n",
    "```\n",
    "\n",
    "### 6. **Creating Arrays with Predefined Values**\n",
    "NumPy provides several functions to create arrays with specific values:\n",
    "\n",
    "- `np.zeros(shape)`: Creates an array filled with zeros.\n",
    "- `np.ones(shape)`: Creates an array filled with ones.\n",
    "- `np.eye(n)`: Creates an identity matrix of size `n x n`.\n",
    "- `np.arange(start, stop, step)`: Returns evenly spaced values within a range.\n",
    "- `np.linspace(start, stop, num)`: Returns evenly spaced numbers over a specified interval.\n",
    "\n",
    "#### Example:\n",
    "```python\n",
    "# Array of zeros\n",
    "zeros_arr = np.zeros((2, 3))  # 2 rows, 3 columns\n",
    "print(\"Array of zeros:\\n\", zeros_arr)\n",
    "\n",
    "# Array of ones\n",
    "ones_arr = np.ones((2, 2))  # 2x2 matrix\n",
    "print(\"Array of ones:\\n\", ones_arr)\n",
    "\n",
    "# Identity matrix\n",
    "identity_matrix = np.eye(3)\n",
    "print(\"Identity matrix:\\n\", identity_matrix)\n",
    "\n",
    "# Range of values\n",
    "range_arr = np.arange(0, 10, 2)\n",
    "print(\"Range of values:\\n\", range_arr)\n",
    "\n",
    "# Evenly spaced numbers\n",
    "linspace_arr = np.linspace(0, 1, 5)\n",
    "print(\"Linspace array:\\n\", linspace_arr)\n",
    "```\n",
    "\n",
    "### 7. **Basic Array Operations**\n",
    "NumPy arrays support element-wise operations, which means you can perform arithmetic operations directly on arrays.\n",
    "\n",
    "#### Example:\n",
    "```python\n",
    "arr1 = np.array([1, 2, 3])\n",
    "arr2 = np.array([4, 5, 6])\n",
    "\n",
    "# Element-wise addition\n",
    "sum_arr = arr1 + arr2\n",
    "print(\"Sum:\\n\", sum_arr)\n",
    "\n",
    "# Element-wise multiplication\n",
    "prod_arr = arr1 * arr2\n",
    "print(\"Product:\\n\", prod_arr)\n",
    "\n",
    "# Scalar addition\n",
    "scalar_add = arr1 + 10\n",
    "print(\"Scalar addition:\\n\", scalar_add)\n",
    "```\n",
    "\n",
    "### 8. **Indexing and Slicing**\n",
    "You can access elements of NumPy arrays similar to lists and use slicing to get a sub-array.\n",
    "\n",
    "#### Example:\n",
    "```python\n",
    "arr = np.array([[1, 2, 3], [4, 5, 6], [7, 8, 9]])\n",
    "\n",
    "# Access element at row 1, column 2\n",
    "print(\"Element at (1, 2):\", arr[1, 2])\n",
    "\n",
    "# Get a sub-array (slice)\n",
    "sub_arr = arr[1:, 1:]  # From row 1 onward, column 1 onward\n",
    "print(\"Sub-array:\\n\", sub_arr)\n",
    "```\n",
    "\n",
    "### 9. **Reshaping Arrays**\n",
    "You can reshape arrays using `reshape()`.\n",
    "\n",
    "#### Example:\n",
    "```python\n",
    "arr = np.array([1, 2, 3, 4, 5, 6])\n",
    "\n",
    "# Reshape the array into 2 rows, 3 columns\n",
    "reshaped_arr = arr.reshape(2, 3)\n",
    "print(\"Reshaped array:\\n\", reshaped_arr)\n",
    "```\n",
    "\n",
    "### 10. **Broadcasting**\n",
    "NumPy automatically handles arrays of different shapes in operations by \"broadcasting\" them to compatible shapes.\n",
    "\n",
    "#### Example:\n",
    "```python\n",
    "arr = np.array([[1, 2, 3], [4, 5, 6]])\n",
    "\n",
    "# Broadcasting a scalar to the entire array\n",
    "print(arr + 10)\n",
    "```\n",
    "\n",
    "### 11. **Random Number Generation**\n",
    "NumPy’s `random` module allows generating random numbers and arrays.\n",
    "\n",
    "#### Example:\n",
    "```python\n",
    "# Random numbers between 0 and 1\n",
    "rand_arr = np.random.rand(3, 3)  # 3x3 matrix of random values\n",
    "print(\"Random array:\\n\", rand_arr)\n",
    "\n",
    "# Random integers\n",
    "rand_ints = np.random.randint(1, 10, size=(2, 3))  # 2x3 matrix of random ints between 1 and 9\n",
    "print(\"Random integers:\\n\", rand_ints)\n",
    "```\n",
    "\n",
    "### 12. **Linear Algebra**\n",
    "NumPy provides useful linear algebra functions like `dot()`, `transpose()`, etc.\n",
    "\n",
    "#### Example:\n",
    "```python\n",
    "# Dot product of two arrays\n",
    "arr1 = np.array([[1, 2], [3, 4]])\n",
    "arr2 = np.array([[5, 6], [7, 8]])\n",
    "\n",
    "dot_product = np.dot(arr1, arr2)\n",
    "print(\"Dot product:\\n\", dot_product)\n",
    "```\n",
    "\n",
    "---\n"
   ]
  },
  {
   "cell_type": "markdown",
   "id": "53e09015-5bda-492f-a297-7197e8774867",
   "metadata": {},
   "source": [
    "# Practice and Special Notes"
   ]
  },
  {
   "cell_type": "code",
   "execution_count": 1,
   "id": "abf19d86-3105-4d35-9209-3be30ba6edb8",
   "metadata": {},
   "outputs": [],
   "source": [
    "import numpy as np\n",
    "import sys"
   ]
  },
  {
   "cell_type": "code",
   "execution_count": 26,
   "id": "088a9ee7-614c-4310-8874-0a205178c2ae",
   "metadata": {},
   "outputs": [],
   "source": [
    "a = np.array([1,2,3])\n",
    "b = np.array([[4,5,6],[7,8,9]])\n",
    "c = np.array([10.2,56.5,87.1], dtype = 'int64')\n",
    "m = np.array([[1,2,3,4,5,6,7,8,9],[9,8,7,6,5,4,3,2,1]])\n",
    "n = np.array([[[4,5,6],[7,8,9]], [[10,11,12],[13,14,16]],[[21,22,23],[41,45,48]]])"
   ]
  },
  {
   "cell_type": "code",
   "execution_count": 4,
   "id": "c4946332-e1db-453e-823f-44cad17f32fa",
   "metadata": {},
   "outputs": [
    {
     "name": "stdout",
     "output_type": "stream",
     "text": [
      "1\n",
      "2\n"
     ]
    }
   ],
   "source": [
    "# Dimantion\n",
    "print(a.ndim)\n",
    "print(b.ndim)"
   ]
  },
  {
   "cell_type": "code",
   "execution_count": 7,
   "id": "6d9044d2-b696-4cf8-82d4-86bc7aaca39c",
   "metadata": {},
   "outputs": [
    {
     "data": {
      "text/plain": [
       "(2, 3)"
      ]
     },
     "execution_count": 7,
     "metadata": {},
     "output_type": "execute_result"
    }
   ],
   "source": [
    "# Get shape\n",
    "b.shape"
   ]
  },
  {
   "cell_type": "code",
   "execution_count": 10,
   "id": "e7b47bf6-d7f3-45b5-988f-cfe52268963e",
   "metadata": {},
   "outputs": [
    {
     "data": {
      "text/plain": [
       "dtype('int32')"
      ]
     },
     "execution_count": 10,
     "metadata": {},
     "output_type": "execute_result"
    }
   ],
   "source": [
    "# get type\n",
    "\n",
    "b.dtype"
   ]
  },
  {
   "cell_type": "code",
   "execution_count": 11,
   "id": "b6f634e6-495b-48a1-bd89-1858737dc453",
   "metadata": {},
   "outputs": [
    {
     "data": {
      "text/plain": [
       "4"
      ]
     },
     "execution_count": 11,
     "metadata": {},
     "output_type": "execute_result"
    }
   ],
   "source": [
    "# item size\n",
    "a.itemsize"
   ]
  },
  {
   "cell_type": "code",
   "execution_count": 12,
   "id": "90015f22-24c8-4ae2-a4e6-b5c80d16a468",
   "metadata": {},
   "outputs": [
    {
     "data": {
      "text/plain": [
       "12"
      ]
     },
     "execution_count": 12,
     "metadata": {},
     "output_type": "execute_result"
    }
   ],
   "source": [
    "# total size\n",
    "a.nbytes"
   ]
  },
  {
   "cell_type": "code",
   "execution_count": 14,
   "id": "c8689795-8fde-46b1-b32f-43acb8bf4538",
   "metadata": {},
   "outputs": [
    {
     "data": {
      "text/plain": [
       "24"
      ]
     },
     "execution_count": 14,
     "metadata": {},
     "output_type": "execute_result"
    }
   ],
   "source": [
    "c.nbytes"
   ]
  },
  {
   "cell_type": "code",
   "execution_count": 25,
   "id": "2b0d6b48-406b-43b2-b019-af6bdeb98a1a",
   "metadata": {},
   "outputs": [
    {
     "data": {
      "text/plain": [
       "array([[1, 2, 3, 4, 5, 6, 7, 8, 9],\n",
       "       [9, 8, 7, 6, 5, 4, 3, 2, 1]])"
      ]
     },
     "execution_count": 25,
     "metadata": {},
     "output_type": "execute_result"
    }
   ],
   "source": [
    "m"
   ]
  },
  {
   "cell_type": "code",
   "execution_count": 17,
   "id": "11e6a662-3e49-426a-82a7-a02885d2374f",
   "metadata": {},
   "outputs": [
    {
     "data": {
      "text/plain": [
       "8"
      ]
     },
     "execution_count": 17,
     "metadata": {},
     "output_type": "execute_result"
    }
   ],
   "source": [
    "# specific element name[r,c] expl : 8 of 2nd list\n",
    "m[1,1]"
   ]
  },
  {
   "cell_type": "code",
   "execution_count": 18,
   "id": "eaf3855e-e51e-413c-9e9b-443becb36119",
   "metadata": {},
   "outputs": [
    {
     "data": {
      "text/plain": [
       "array([9, 8, 7, 6, 5, 4, 3, 2, 1])"
      ]
     },
     "execution_count": 18,
     "metadata": {},
     "output_type": "execute_result"
    }
   ],
   "source": [
    "# row - 2nd list\n",
    "m[1 , :]"
   ]
  },
  {
   "cell_type": "code",
   "execution_count": 19,
   "id": "1744c64a-343f-491e-b92f-dc9aa0b2f103",
   "metadata": {},
   "outputs": [
    {
     "data": {
      "text/plain": [
       "array([3, 7])"
      ]
     },
     "execution_count": 19,
     "metadata": {},
     "output_type": "execute_result"
    }
   ],
   "source": [
    "# col - 3,7\n",
    "m[:, 2]"
   ]
  },
  {
   "cell_type": "code",
   "execution_count": 20,
   "id": "19007677-c90a-461a-9811-0ee61113321e",
   "metadata": {},
   "outputs": [
    {
     "data": {
      "text/plain": [
       "array([[1, 2, 3, 4, 5, 6, 7, 8, 9],\n",
       "       [9, 8, 7, 6, 5, 4, 3, 2, 1]])"
      ]
     },
     "execution_count": 20,
     "metadata": {},
     "output_type": "execute_result"
    }
   ],
   "source": [
    "m"
   ]
  },
  {
   "cell_type": "code",
   "execution_count": 23,
   "id": "57758198-2de1-411d-832c-fd97a3687195",
   "metadata": {},
   "outputs": [
    {
     "data": {
      "text/plain": [
       "array([3, 4, 5, 6, 7])"
      ]
     },
     "execution_count": 23,
     "metadata": {},
     "output_type": "execute_result"
    }
   ],
   "source": [
    "# row slicing 3 to 7\n",
    "m[0, 2:7:1]"
   ]
  },
  {
   "cell_type": "code",
   "execution_count": 35,
   "id": "fc1487cb-7179-4a22-b577-ba04c168855c",
   "metadata": {},
   "outputs": [
    {
     "data": {
      "text/plain": [
       "array([[ 1, 99,  3,  4,  5,  6,  7,  8,  9],\n",
       "       [99,  8,  7,  6,  5,  4,  3,  2,  1]])"
      ]
     },
     "execution_count": 35,
     "metadata": {},
     "output_type": "execute_result"
    }
   ],
   "source": [
    "# change value\n",
    "m[1,0] = 99\n",
    "m"
   ]
  },
  {
   "cell_type": "code",
   "execution_count": 42,
   "id": "b2531d0e-a758-4498-bf2d-02620b2068b1",
   "metadata": {},
   "outputs": [
    {
     "data": {
      "text/plain": [
       "array([[ 1,  5, 34,  4,  5,  6,  7,  8,  9],\n",
       "       [ 5,  5, 43,  5,  5,  5,  5,  5,  5]])"
      ]
     },
     "execution_count": 42,
     "metadata": {},
     "output_type": "execute_result"
    }
   ],
   "source": [
    "# change column\n",
    "m[:, 1] = 5\n",
    "m[:, 2] = [34,43]\n",
    "m"
   ]
  },
  {
   "cell_type": "code",
   "execution_count": null,
   "id": "b604263f-1a74-444c-b62b-ea7b8064bc89",
   "metadata": {},
   "outputs": [],
   "source": []
  }
 ],
 "metadata": {
  "kernelspec": {
   "display_name": "Python 3 (ipykernel)",
   "language": "python",
   "name": "python3"
  },
  "language_info": {
   "codemirror_mode": {
    "name": "ipython",
    "version": 3
   },
   "file_extension": ".py",
   "mimetype": "text/x-python",
   "name": "python",
   "nbconvert_exporter": "python",
   "pygments_lexer": "ipython3",
   "version": "3.12.6"
  },
  "widgets": {
   "application/vnd.jupyter.widget-state+json": {
    "state": {},
    "version_major": 2,
    "version_minor": 0
   }
  }
 },
 "nbformat": 4,
 "nbformat_minor": 5
}
