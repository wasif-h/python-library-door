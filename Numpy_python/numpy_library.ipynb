{
 "cells": [
  {
   "attachments": {
    "image.png": {
     "image/png": "[encoded data removed]"
    }
   },
   "cell_type": "markdown",
   "id": "bc35b0e1-a40c-4203-aac4-b252283b6360",
   "metadata": {},
   "source": [
    "# Let's Explore `Numpy` - An Awesome Python Library\n",
    "\n",
    "![image.png](attachment:image.png)"
   ]
  },
  {
   "cell_type": "markdown",
   "id": "99620191-2245-43e6-bcd4-5e119af4c1d0",
   "metadata": {},
   "source": [
    "**NumPy** - one of the most widely used libraries for numerical computations in Python. It provides support for handling arrays, matrices, and many mathematical functions efficiently.\n",
    "\n",
    "`Numpy Documentation`\n",
    "1. Official : https://numpy.org/doc/stable/user/quickstart.html\n",
    "2. W3School : https://www.w3schools.com/python/numpy/numpy_intro.asp\n",
    "\n",
    "### 1. **Installing NumPy**\n",
    "If you haven't installed NumPy yet, you can install it using:\n",
    "```bash\n",
    "pip install numpy\n",
    "```\n",
    "\n",
    "### 2. **Importing NumPy**\n",
    "After installing, you can import it with the following convention (alias `np` is common):\n",
    "```python\n",
    "import numpy as np\n",
    "```\n",
    "\n",
    "### 3. **Key Features of NumPy**\n",
    "- **N-dimensional array (ndarray)**: NumPy provides the `ndarray` object, which is a powerful n-dimensional array.\n",
    "- **Broadcasting**: It allows operations on arrays of different shapes.\n",
    "- **Vectorized operations**: Faster element-wise operations compared to Python lists.\n",
    "- **Linear algebra**: Provides functions for linear algebra operations, such as dot products, matrix multiplication, etc.\n",
    "- **Random sampling**: Built-in functions to generate random numbers and distributions.\n",
    "\n",
    "  Here’s a comparison between **NumPy arrays** and **Python lists**\n",
    "\n",
    "| **Feature**                | **NumPy Array**                                         | **Python List**                                        |\n",
    "|----------------------------|--------------------------------------------------------|--------------------------------------------------------|\n",
    "| **Data Type**               | Homogeneous: All elements must be of the same data type. | Heterogeneous: Can contain elements of different types. |\n",
    "| **Memory Efficiency**       | More memory efficient due to fixed data type.           | Less memory efficient because of flexible data types.   |\n",
    "| **Speed**                   | Faster for large datasets due to optimized C-based operations. | Slower for large datasets, as it operates at a higher level. |\n",
    "| **Mathematical Operations** | Supports element-wise and vectorized operations.        | Requires loops or list comprehensions for element-wise operations. |\n",
    "| **Multidimensional Data**   | Supports multi-dimensional arrays (2D, 3D, etc.) directly. | Requires nested lists for multi-dimensional data.       |\n",
    "| **Indexing**                | Advanced indexing and slicing options, including boolean indexing. | Basic indexing and slicing; no advanced features.       |\n",
    "| **Functionality**           | Extensive mathematical functions and statistical operations available. | Limited to basic Python built-in functions.             |\n",
    "| **Broadcasting**            | Supports broadcasting, allowing operations on arrays of different shapes. | No broadcasting support. Manual iteration is required for such operations. |\n",
    "| **Memory Contiguity**       | Uses contiguous blocks of memory for efficient storage. | Elements are stored as references, leading to scattered memory locations. |\n",
    "| **Flexibility**             | Less flexible in terms of mixed data types.             | More flexible, allows different data types in the same list. |\n",
    "| **Usage**                   | Primarily used for numerical and scientific computing.   | General-purpose, suitable for various types of data and applications. |\n",
    "| **Dependencies**            | Requires installation of the NumPy library.             | No external library needed, built into Python.          |\n",
    "| **Appending/Modifying Elements** | More complex when resizing, as arrays are fixed-size (but NumPy offers resizing functions like `np.append()`). | Easier to modify dynamically, allows appending and removing elements. |\n",
    "| **Memory Consumption**      | Consumes less memory for large datasets due to contiguous allocation. | Consumes more memory due to dynamic type references. |\n",
    "\n",
    "\n",
    "\n",
    "\n",
    "### 4. **Creating NumPy Arrays**\n",
    "You can create NumPy arrays from Python lists or tuples using `np.array()`.\n",
    "\n",
    "#### Example: Creating arrays\n",
    "```python\n",
    "import numpy as np\n",
    "\n",
    "# 1D array\n",
    "arr1 = np.array([1, 2, 3, 4])\n",
    "print(arr1)\n",
    "\n",
    "# 2D array\n",
    "arr2 = np.array([[1, 2], [3, 4]])\n",
    "print(arr2)\n",
    "```\n",
    "\n",
    "### 5. **Array Attributes**\n",
    "Some useful attributes of NumPy arrays include:\n",
    "- `ndarray.shape`: Gives the dimensions of the array.\n",
    "- `ndarray.ndim`: Returns the number of dimensions.\n",
    "- `ndarray.size`: Gives the total number of elements.\n",
    "- `ndarray.dtype`: Returns the data type of the array.\n",
    "\n",
    "#### Example:\n",
    "```python\n",
    "arr = np.array([[1, 2, 3], [4, 5, 6]])\n",
    "\n",
    "print(\"Shape:\", arr.shape)\n",
    "print(\"Number of dimensions:\", arr.ndim)\n",
    "print(\"Number of elements:\", arr.size)\n",
    "print(\"Data type:\", arr.dtype)\n",
    "```\n",
    "\n",
    "### 6. **Creating Arrays with Predefined Values**\n",
    "NumPy provides several functions to create arrays with specific values:\n",
    "\n",
    "- `np.zeros(shape)`: Creates an array filled with zeros.\n",
    "- `np.ones(shape)`: Creates an array filled with ones.\n",
    "- `np.eye(n)`: Creates an identity matrix of size `n x n`.\n",
    "- `np.arange(start, stop, step)`: Returns evenly spaced values within a range.\n",
    "- `np.linspace(start, stop, num)`: Returns evenly spaced numbers over a specified interval.\n",
    "\n",
    "#### Example:\n",
    "```python\n",
    "# Array of zeros\n",
    "zeros_arr = np.zeros((2, 3))  # 2 rows, 3 columns\n",
    "print(\"Array of zeros:\\n\", zeros_arr)\n",
    "\n",
    "# Array of ones\n",
    "ones_arr = np.ones((2, 2))  # 2x2 matrix\n",
    "print(\"Array of ones:\\n\", ones_arr)\n",
    "\n",
    "# Identity matrix\n",
    "identity_matrix = np.eye(3)\n",
    "print(\"Identity matrix:\\n\", identity_matrix)\n",
    "\n",
    "# Range of values\n",
    "range_arr = np.arange(0, 10, 2)\n",
    "print(\"Range of values:\\n\", range_arr)\n",
    "\n",
    "# Evenly spaced numbers\n",
    "linspace_arr = np.linspace(0, 1, 5)\n",
    "print(\"Linspace array:\\n\", linspace_arr)\n",
    "```\n",
    "\n",
    "### 7. **Basic Array Operations**\n",
    "NumPy arrays support element-wise operations, which means you can perform arithmetic operations directly on arrays.\n",
    "\n",
    "#### Example:\n",
    "```python\n",
    "arr1 = np.array([1, 2, 3])\n",
    "arr2 = np.array([4, 5, 6])\n",
    "\n",
    "# Element-wise addition\n",
    "sum_arr = arr1 + arr2\n",
    "print(\"Sum:\\n\", sum_arr)\n",
    "\n",
    "# Element-wise multiplication\n",
    "prod_arr = arr1 * arr2\n",
    "print(\"Product:\\n\", prod_arr)\n",
    "\n",
    "# Scalar addition\n",
    "scalar_add = arr1 + 10\n",
    "print(\"Scalar addition:\\n\", scalar_add)\n",
    "```\n",
    "\n",
    "### 8. **Indexing and Slicing**\n",
    "You can access elements of NumPy arrays similar to lists and use slicing to get a sub-array.\n",
    "\n",
    "#### Example:\n",
    "```python\n",
    "arr = np.array([[1, 2, 3], [4, 5, 6], [7, 8, 9]])\n",
    "\n",
    "# Access element at row 1, column 2\n",
    "print(\"Element at (1, 2):\", arr[1, 2])\n",
    "\n",
    "# Get a sub-array (slice)\n",
    "sub_arr = arr[1:, 1:]  # From row 1 onward, column 1 onward\n",
    "print(\"Sub-array:\\n\", sub_arr)\n",
    "```\n",
    "\n",
    "### 9. **Reshaping Arrays**\n",
    "You can reshape arrays using `reshape()`.\n",
    "\n",
    "#### Example:\n",
    "```python\n",
    "arr = np.array([1, 2, 3, 4, 5, 6])\n",
    "\n",
    "# Reshape the array into 2 rows, 3 columns\n",
    "reshaped_arr = arr.reshape(2, 3)\n",
    "print(\"Reshaped array:\\n\", reshaped_arr)\n",
    "```\n",
    "\n",
    "### 10. **Broadcasting**\n",
    "NumPy automatically handles arrays of different shapes in operations by \"broadcasting\" them to compatible shapes.\n",
    "\n",
    "#### Example:\n",
    "```python\n",
    "arr = np.array([[1, 2, 3], [4, 5, 6]])\n",
    "\n",
    "# Broadcasting a scalar to the entire array\n",
    "print(arr + 10)\n",
    "```\n",
    "\n",
    "### 11. **Random Number Generation**\n",
    "NumPy’s `random` module allows generating random numbers and arrays.\n",
    "\n",
    "#### Example:\n",
    "```python\n",
    "# Random numbers between 0 and 1\n",
    "rand_arr = np.random.rand(3, 3)  # 3x3 matrix of random values\n",
    "print(\"Random array:\\n\", rand_arr)\n",
    "\n",
    "# Random integers\n",
    "rand_ints = np.random.randint(1, 10, size=(2, 3))  # 2x3 matrix of random ints between 1 and 9\n",
    "print(\"Random integers:\\n\", rand_ints)\n",
    "```\n",
    "\n",
    "### 12. **Linear Algebra**\n",
    "NumPy provides useful linear algebra functions like `dot()`, `transpose()`, etc.\n",
    "\n",
    "#### Example:\n",
    "```python\n",
    "# Dot product of two arrays\n",
    "arr1 = np.array([[1, 2], [3, 4]])\n",
    "arr2 = np.array([[5, 6], [7, 8]])\n",
    "\n",
    "dot_product = np.dot(arr1, arr2)\n",
    "print(\"Dot product:\\n\", dot_product)\n",
    "```\n",
    "\n",
    "---\n"
   ]
  },
  {
   "cell_type": "markdown",
   "id": "53e09015-5bda-492f-a297-7197e8774867",
   "metadata": {},
   "source": [
    "# Practice and Special Notes"
   ]
  },
  {
   "cell_type": "code",
   "execution_count": 1,
   "id": "abf19d86-3105-4d35-9209-3be30ba6edb8",
   "metadata": {},
   "outputs": [],
   "source": [
    "import numpy as np\n",
    "import sys"
   ]
  },
  {
   "cell_type": "markdown",
   "id": "b4eff50c-ebe1-4320-ab8c-9c0963977d1f",
   "metadata": {},
   "source": [
    "### Setting Up some basic arrays"
   ]
  },
  {
   "cell_type": "code",
   "execution_count": 2,
   "id": "088a9ee7-614c-4310-8874-0a205178c2ae",
   "metadata": {},
   "outputs": [],
   "source": [
    "a = np.array([1,2,3])\n",
    "b = np.array([[4,5,6],[7,8,9]])\n",
    "c = np.array([10.2,56.5,87.1], dtype = 'int64') #1D\n",
    "m = np.array([[1,2,3,4,5,6,7,8,9],[9,8,7,6,5,4,3,2,1]]) #2D\n",
    "n = np.array([[[4,5,6],[7,8,9]], [[10,11,12],[13,14,16]],[[21,22,23],[41,45,48]]]) #3D"
   ]
  },
  {
   "cell_type": "code",
   "execution_count": 3,
   "id": "c4946332-e1db-453e-823f-44cad17f32fa",
   "metadata": {},
   "outputs": [
    {
     "name": "stdout",
     "output_type": "stream",
     "text": [
      "1\n",
      "2\n"
     ]
    }
   ],
   "source": [
    "# Dimantion\n",
    "print(a.ndim)\n",
    "print(b.ndim)"
   ]
  },
  {
   "cell_type": "code",
   "execution_count": 4,
   "id": "6d9044d2-b696-4cf8-82d4-86bc7aaca39c",
   "metadata": {},
   "outputs": [
    {
     "data": {
      "text/plain": [
       "(2, 3)"
      ]
     },
     "execution_count": 4,
     "metadata": {},
     "output_type": "execute_result"
    }
   ],
   "source": [
    "# Get shape\n",
    "b.shape"
   ]
  },
  {
   "cell_type": "code",
   "execution_count": 5,
   "id": "e7b47bf6-d7f3-45b5-988f-cfe52268963e",
   "metadata": {},
   "outputs": [
    {
     "data": {
      "text/plain": [
       "dtype('int32')"
      ]
     },
     "execution_count": 5,
     "metadata": {},
     "output_type": "execute_result"
    }
   ],
   "source": [
    "# get type\n",
    "\n",
    "b.dtype"
   ]
  },
  {
   "cell_type": "code",
   "execution_count": 6,
   "id": "b6f634e6-495b-48a1-bd89-1858737dc453",
   "metadata": {},
   "outputs": [
    {
     "data": {
      "text/plain": [
       "4"
      ]
     },
     "execution_count": 6,
     "metadata": {},
     "output_type": "execute_result"
    }
   ],
   "source": [
    "# item size\n",
    "a.itemsize"
   ]
  },
  {
   "cell_type": "code",
   "execution_count": 7,
   "id": "90015f22-24c8-4ae2-a4e6-b5c80d16a468",
   "metadata": {},
   "outputs": [
    {
     "data": {
      "text/plain": [
       "12"
      ]
     },
     "execution_count": 7,
     "metadata": {},
     "output_type": "execute_result"
    }
   ],
   "source": [
    "# total size\n",
    "a.nbytes"
   ]
  },
  {
   "cell_type": "code",
   "execution_count": 8,
   "id": "c8689795-8fde-46b1-b32f-43acb8bf4538",
   "metadata": {},
   "outputs": [
    {
     "data": {
      "text/plain": [
       "24"
      ]
     },
     "execution_count": 8,
     "metadata": {},
     "output_type": "execute_result"
    }
   ],
   "source": [
    "c.nbytes"
   ]
  },
  {
   "cell_type": "code",
   "execution_count": 9,
   "id": "2b0d6b48-406b-43b2-b019-af6bdeb98a1a",
   "metadata": {},
   "outputs": [
    {
     "data": {
      "text/plain": [
       "array([[1, 2, 3, 4, 5, 6, 7, 8, 9],\n",
       "       [9, 8, 7, 6, 5, 4, 3, 2, 1]])"
      ]
     },
     "execution_count": 9,
     "metadata": {},
     "output_type": "execute_result"
    }
   ],
   "source": [
    "m"
   ]
  },
  {
   "cell_type": "code",
   "execution_count": 10,
   "id": "11e6a662-3e49-426a-82a7-a02885d2374f",
   "metadata": {},
   "outputs": [
    {
     "data": {
      "text/plain": [
       "8"
      ]
     },
     "execution_count": 10,
     "metadata": {},
     "output_type": "execute_result"
    }
   ],
   "source": [
    "# specific element name[r,c] expl : 8 of 2nd list\n",
    "m[1,1]"
   ]
  },
  {
   "cell_type": "code",
   "execution_count": 11,
   "id": "eaf3855e-e51e-413c-9e9b-443becb36119",
   "metadata": {},
   "outputs": [
    {
     "data": {
      "text/plain": [
       "array([9, 8, 7, 6, 5, 4, 3, 2, 1])"
      ]
     },
     "execution_count": 11,
     "metadata": {},
     "output_type": "execute_result"
    }
   ],
   "source": [
    "# row - 2nd list\n",
    "m[1 , :]"
   ]
  },
  {
   "cell_type": "code",
   "execution_count": 12,
   "id": "1744c64a-343f-491e-b92f-dc9aa0b2f103",
   "metadata": {},
   "outputs": [
    {
     "data": {
      "text/plain": [
       "array([3, 7])"
      ]
     },
     "execution_count": 12,
     "metadata": {},
     "output_type": "execute_result"
    }
   ],
   "source": [
    "# col - 3,7\n",
    "m[:, 2]"
   ]
  },
  {
   "cell_type": "code",
   "execution_count": 13,
   "id": "19007677-c90a-461a-9811-0ee61113321e",
   "metadata": {},
   "outputs": [
    {
     "data": {
      "text/plain": [
       "array([[1, 2, 3, 4, 5, 6, 7, 8, 9],\n",
       "       [9, 8, 7, 6, 5, 4, 3, 2, 1]])"
      ]
     },
     "execution_count": 13,
     "metadata": {},
     "output_type": "execute_result"
    }
   ],
   "source": [
    "m"
   ]
  },
  {
   "cell_type": "code",
   "execution_count": 14,
   "id": "57758198-2de1-411d-832c-fd97a3687195",
   "metadata": {},
   "outputs": [
    {
     "data": {
      "text/plain": [
       "array([3, 4, 5, 6, 7])"
      ]
     },
     "execution_count": 14,
     "metadata": {},
     "output_type": "execute_result"
    }
   ],
   "source": [
    "# row slicing 3 to 7\n",
    "m[0, 2:7:1]"
   ]
  },
  {
   "cell_type": "code",
   "execution_count": 15,
   "id": "fc1487cb-7179-4a22-b577-ba04c168855c",
   "metadata": {},
   "outputs": [
    {
     "data": {
      "text/plain": [
       "array([[ 1,  2,  3,  4,  5,  6,  7,  8,  9],\n",
       "       [99,  8,  7,  6,  5,  4,  3,  2,  1]])"
      ]
     },
     "execution_count": 15,
     "metadata": {},
     "output_type": "execute_result"
    }
   ],
   "source": [
    "# change value\n",
    "m[1,0] = 99\n",
    "m"
   ]
  },
  {
   "cell_type": "code",
   "execution_count": 16,
   "id": "b2531d0e-a758-4498-bf2d-02620b2068b1",
   "metadata": {},
   "outputs": [
    {
     "data": {
      "text/plain": [
       "array([[ 1,  5, 34,  4,  5,  6,  7,  8,  9],\n",
       "       [99,  5, 43,  6,  5,  4,  3,  2,  1]])"
      ]
     },
     "execution_count": 16,
     "metadata": {},
     "output_type": "execute_result"
    }
   ],
   "source": [
    "# change column\n",
    "m[:, 1] = 5\n",
    "m[:, 2] = [34,43]\n",
    "m"
   ]
  },
  {
   "cell_type": "code",
   "execution_count": 17,
   "id": "b604263f-1a74-444c-b62b-ea7b8064bc89",
   "metadata": {},
   "outputs": [
    {
     "data": {
      "text/plain": [
       "array([[[ 4,  5,  6],\n",
       "        [ 7,  8,  9]],\n",
       "\n",
       "       [[10, 11, 12],\n",
       "        [13, 14, 16]],\n",
       "\n",
       "       [[21, 22, 23],\n",
       "        [41, 45, 48]]])"
      ]
     },
     "execution_count": 17,
     "metadata": {},
     "output_type": "execute_result"
    }
   ],
   "source": [
    "# 3D array\n",
    "n"
   ]
  },
  {
   "cell_type": "code",
   "execution_count": 18,
   "id": "8de40dd0-d50d-491c-8427-ff50f2d29237",
   "metadata": {},
   "outputs": [
    {
     "data": {
      "text/plain": [
       "array([[ 7,  8,  9],\n",
       "       [13, 14, 16],\n",
       "       [41, 45, 48]])"
      ]
     },
     "execution_count": 18,
     "metadata": {},
     "output_type": "execute_result"
    }
   ],
   "source": [
    "n[:,1,:]\n",
    "# : means all of them\n",
    "# [big row, small row, col]"
   ]
  },
  {
   "cell_type": "code",
   "execution_count": 19,
   "id": "820368d4-f16e-42ec-9984-94339e6b2112",
   "metadata": {},
   "outputs": [
    {
     "data": {
      "text/plain": [
       "array([[8, 9]])"
      ]
     },
     "execution_count": 19,
     "metadata": {},
     "output_type": "execute_result"
    }
   ],
   "source": [
    "n[:1,1,1:]"
   ]
  },
  {
   "cell_type": "markdown",
   "id": "8bb9f6d3-02ef-4378-93d5-1a437691ea85",
   "metadata": {},
   "source": [
    "`Automatic Value Fill`"
   ]
  },
  {
   "cell_type": "code",
   "execution_count": 20,
   "id": "90d1ed55-5dd5-4be6-a1e1-70aed41897c8",
   "metadata": {},
   "outputs": [
    {
     "name": "stdout",
     "output_type": "stream",
     "text": [
      "Array of zeros:\n",
      " [[0. 0. 0.]\n",
      " [0. 0. 0.]]\n",
      "Array of ones:\n",
      " [[1. 1.]\n",
      " [1. 1.]]\n",
      "Identity matrix:\n",
      " [[1. 0. 0.]\n",
      " [0. 1. 0.]\n",
      " [0. 0. 1.]]\n",
      "Range of values:\n",
      " [0 2 4 6 8]\n",
      "Linspace array:\n",
      " [0.   0.25 0.5  0.75 1.  ]\n"
     ]
    }
   ],
   "source": [
    "# Array of zeros\n",
    "zeros_arr = np.zeros((2, 3))  # 2 rows, 3 columns\n",
    "print(\"Array of zeros:\\n\", zeros_arr)\n",
    "\n",
    "# Array of ones\n",
    "ones_arr = np.ones((2, 2))  # 2x2 matrix\n",
    "print(\"Array of ones:\\n\", ones_arr)\n",
    "\n",
    "# Identity matrix\n",
    "identity_matrix = np.eye(3)\n",
    "print(\"Identity matrix:\\n\", identity_matrix)\n",
    "\n",
    "# Range of values\n",
    "range_arr = np.arange(0, 10, 2)\n",
    "print(\"Range of values:\\n\", range_arr)\n",
    "\n",
    "# Evenly spaced numbers\n",
    "linspace_arr = np.linspace(0, 1, 5)\n",
    "print(\"Linspace array:\\n\", linspace_arr)"
   ]
  },
  {
   "cell_type": "code",
   "execution_count": 21,
   "id": "a9bb9eec-9cba-4d5a-bf3d-be8ec0a0b6c2",
   "metadata": {},
   "outputs": [
    {
     "data": {
      "text/plain": [
       "array([[0., 0., 0.],\n",
       "       [0., 0., 0.],\n",
       "       [0., 0., 0.]])"
      ]
     },
     "execution_count": 21,
     "metadata": {},
     "output_type": "execute_result"
    }
   ],
   "source": [
    "np.zeros([3,3])"
   ]
  },
  {
   "cell_type": "code",
   "execution_count": 22,
   "id": "a52f7a1b-fdfc-4779-a439-f4ccc3aaf044",
   "metadata": {},
   "outputs": [
    {
     "data": {
      "text/plain": [
       "array([[[1., 1.],\n",
       "        [1., 1.]],\n",
       "\n",
       "       [[1., 1.],\n",
       "        [1., 1.]]])"
      ]
     },
     "execution_count": 22,
     "metadata": {},
     "output_type": "execute_result"
    }
   ],
   "source": [
    "np.ones([2,2,2])"
   ]
  },
  {
   "cell_type": "code",
   "execution_count": 23,
   "id": "49416fa2-1831-4275-8818-e5271bd3c992",
   "metadata": {},
   "outputs": [
    {
     "data": {
      "text/plain": [
       "array([[69, 69, 69],\n",
       "       [69, 69, 69],\n",
       "       [69, 69, 69]])"
      ]
     },
     "execution_count": 23,
     "metadata": {},
     "output_type": "execute_result"
    }
   ],
   "source": [
    "np.full([3,3],69)"
   ]
  },
  {
   "cell_type": "code",
   "execution_count": 24,
   "id": "6f610dae-8406-4c58-acf7-f8d39791fe91",
   "metadata": {},
   "outputs": [
    {
     "data": {
      "text/plain": [
       "array([[[3, 9, 9],\n",
       "        [2, 4, 4],\n",
       "        [8, 6, 2]],\n",
       "\n",
       "       [[6, 3, 1],\n",
       "        [9, 1, 4],\n",
       "        [2, 9, 7]],\n",
       "\n",
       "       [[1, 2, 4],\n",
       "        [3, 8, 8],\n",
       "        [9, 7, 3]]])"
      ]
     },
     "execution_count": 24,
     "metadata": {},
     "output_type": "execute_result"
    }
   ],
   "source": [
    "np.random.randint(1,10,size=[3,3,3])"
   ]
  },
  {
   "cell_type": "code",
   "execution_count": 25,
   "id": "88e23003-cad1-466c-bef1-fbede3c73bce",
   "metadata": {},
   "outputs": [],
   "source": [
    "arr = np.array(\n",
    "      [[[4, 9, 4],\n",
    "        [7, 2, 8],\n",
    "        [6, 8, 8]],\n",
    "\n",
    "       [[8, 5, 3],\n",
    "        [5, 6, 7],\n",
    "        [3, 7, 3]],\n",
    "\n",
    "       [[1, 8, 8],\n",
    "        [2, 8, 1],\n",
    "        [8, 7, 3]]])"
   ]
  },
  {
   "cell_type": "code",
   "execution_count": 26,
   "id": "be1e2028-a3b7-43c4-89c0-df78e04ddcc9",
   "metadata": {},
   "outputs": [
    {
     "data": {
      "text/plain": [
       "array([[0.94120882, 0.01714025, 0.68057007],\n",
       "       [0.09378697, 0.42426778, 0.92855967],\n",
       "       [0.88832107, 0.02607248, 0.02367432]])"
      ]
     },
     "execution_count": 26,
     "metadata": {},
     "output_type": "execute_result"
    }
   ],
   "source": [
    "np.random.rand(3,3)"
   ]
  },
  {
   "cell_type": "code",
   "execution_count": 27,
   "id": "aea441cc-59c7-41db-82ff-c8d734799d16",
   "metadata": {},
   "outputs": [
    {
     "data": {
      "text/plain": [
       "array([[1., 0., 0.],\n",
       "       [0., 1., 0.],\n",
       "       [0., 0., 1.]])"
      ]
     },
     "execution_count": 27,
     "metadata": {},
     "output_type": "execute_result"
    }
   ],
   "source": [
    "np.identity(3)"
   ]
  },
  {
   "cell_type": "code",
   "execution_count": 28,
   "id": "6b270606-00b8-4916-a613-4fc5a4f5a7a1",
   "metadata": {},
   "outputs": [
    {
     "data": {
      "text/plain": [
       "array([[1, 2, 3],\n",
       "       [1, 2, 3],\n",
       "       [1, 2, 3]])"
      ]
     },
     "execution_count": 28,
     "metadata": {},
     "output_type": "execute_result"
    }
   ],
   "source": [
    "# array repeat process - axis0 means row 1 means col\n",
    "# use 2 dimenstion to repeat the entire row or col instead of repeating value\n",
    "arr = np.array([[1,2,3]])\n",
    "arr.repeat(3,axis = 0)"
   ]
  },
  {
   "cell_type": "code",
   "execution_count": 29,
   "id": "1ff46042-b951-44c5-8156-3b1029992480",
   "metadata": {},
   "outputs": [
    {
     "name": "stdout",
     "output_type": "stream",
     "text": [
      "[[1. 1. 1. 1. 1.]\n",
      " [1. 1. 1. 1. 1.]\n",
      " [1. 1. 1. 1. 1.]\n",
      " [1. 1. 1. 1. 1.]\n",
      " [1. 1. 1. 1. 1.]]\n",
      "\n",
      "[[0. 0. 0.]\n",
      " [0. 0. 0.]\n",
      " [0. 0. 0.]]\n",
      "\n",
      "[[1. 1. 1. 1. 1.]\n",
      " [1. 0. 0. 0. 1.]\n",
      " [1. 0. 0. 0. 1.]\n",
      " [1. 0. 0. 0. 1.]\n",
      " [1. 1. 1. 1. 1.]]\n"
     ]
    }
   ],
   "source": [
    "# change a bigger amount of array from another array\n",
    "\n",
    "arr = np.ones([5,5])\n",
    "arr2 = np.zeros([3,3])\n",
    "print(arr,arr2,sep = \"\\n\\n\", end = \"\\n\\n\")\n",
    "\n",
    "arr[1:4,1:4] = arr2\n",
    "print(arr)"
   ]
  },
  {
   "cell_type": "code",
   "execution_count": 30,
   "id": "85a59982-58ef-43e7-be2e-1bdc81515c50",
   "metadata": {},
   "outputs": [
    {
     "data": {
      "text/plain": [
       "array([[5, 9, 5, 3, 7, 1, 5],\n",
       "       [4, 0, 0, 0, 0, 0, 2],\n",
       "       [6, 0, 0, 0, 0, 0, 2],\n",
       "       [8, 0, 0, 0, 0, 0, 7],\n",
       "       [2, 0, 0, 0, 0, 0, 4],\n",
       "       [8, 0, 0, 0, 0, 0, 3],\n",
       "       [4, 9, 4, 4, 9, 9, 8]])"
      ]
     },
     "execution_count": 30,
     "metadata": {},
     "output_type": "execute_result"
    }
   ],
   "source": [
    "# try this with random numbers with fancy style\n",
    "\n",
    "arr = np.random.randint(1,10,size = [7,7])\n",
    "arr[1:6,1:6] = np.zeros([5,5])\n",
    "arr"
   ]
  },
  {
   "cell_type": "code",
   "execution_count": 31,
   "id": "48ecef88-79bc-460d-a3c6-b80cd011b625",
   "metadata": {},
   "outputs": [
    {
     "name": "stdout",
     "output_type": "stream",
     "text": [
      "[700   3]\n",
      "[700   3]\n",
      "Second Method\n",
      "[700   3]\n",
      "[50  3]\n"
     ]
    }
   ],
   "source": [
    "# array points the same object with different name so copying array is a careful task\n",
    "\n",
    "a = np.array([1,3])\n",
    "b = a\n",
    "b[0] = 700\n",
    "print(a)\n",
    "print(b)\n",
    "\n",
    "# to change this problem use copy() method\n",
    "print(\"Second Method\")\n",
    "b = a.copy()\n",
    "b[0] = 50\n",
    "print(a)\n",
    "print(b)"
   ]
  },
  {
   "cell_type": "markdown",
   "id": "08086547-b06f-46e8-95a3-d5cdb048fc80",
   "metadata": {},
   "source": [
    "# Math with Numpy"
   ]
  },
  {
   "cell_type": "code",
   "execution_count": 32,
   "id": "ef7a1f8f-047e-453d-b928-406df848a010",
   "metadata": {},
   "outputs": [],
   "source": [
    "# numpy calculate with individual elements all time"
   ]
  },
  {
   "cell_type": "code",
   "execution_count": 33,
   "id": "d96134e1-f9e9-4b76-8a95-9127ce297202",
   "metadata": {},
   "outputs": [
    {
     "name": "stdout",
     "output_type": "stream",
     "text": [
      "[[4 4 4]\n",
      " [4 4 4]\n",
      " [4 4 4]]\n",
      "[[8 1 1]\n",
      " [3 3 5]\n",
      " [2 1 2]]\n"
     ]
    }
   ],
   "source": [
    "a = np.full([3,3],4)\n",
    "b = np.random.randint(1,9,size = [3,3])\n",
    "print(a)\n",
    "print(b)"
   ]
  },
  {
   "cell_type": "code",
   "execution_count": 34,
   "id": "cfd90a52-349b-48be-be95-72ead41b87aa",
   "metadata": {},
   "outputs": [
    {
     "data": {
      "text/plain": [
       "array([[12,  5,  5],\n",
       "       [ 7,  7,  9],\n",
       "       [ 6,  5,  6]])"
      ]
     },
     "execution_count": 34,
     "metadata": {},
     "output_type": "execute_result"
    }
   ],
   "source": [
    "a + b"
   ]
  },
  {
   "cell_type": "code",
   "execution_count": 35,
   "id": "918877f3-d1a1-426b-8677-af9789205436",
   "metadata": {},
   "outputs": [
    {
     "data": {
      "text/plain": [
       "array([[65536,     4,     4],\n",
       "       [   64,    64,  1024],\n",
       "       [   16,     4,    16]])"
      ]
     },
     "execution_count": 35,
     "metadata": {},
     "output_type": "execute_result"
    }
   ],
   "source": [
    "a ** b"
   ]
  },
  {
   "cell_type": "code",
   "execution_count": 36,
   "id": "bbdabfc4-5f30-4e14-98af-49f851a94896",
   "metadata": {},
   "outputs": [
    {
     "data": {
      "text/plain": [
       "array([[32,  4,  4],\n",
       "       [12, 12, 20],\n",
       "       [ 8,  4,  8]])"
      ]
     },
     "execution_count": 36,
     "metadata": {},
     "output_type": "execute_result"
    }
   ],
   "source": [
    "a * b\n",
    "# this is not matrix mulptiplication."
   ]
  },
  {
   "cell_type": "code",
   "execution_count": 37,
   "id": "f06a71a3-8475-47a4-bb68-0e2991ac55b8",
   "metadata": {},
   "outputs": [
    {
     "data": {
      "text/plain": [
       "array([[52, 20, 32],\n",
       "       [52, 20, 32],\n",
       "       [52, 20, 32]])"
      ]
     },
     "execution_count": 37,
     "metadata": {},
     "output_type": "execute_result"
    }
   ],
   "source": [
    "# for matrix multiplication\n",
    "c = np.matmul(a,b)\n",
    "c"
   ]
  },
  {
   "cell_type": "code",
   "execution_count": 38,
   "id": "773ef399-106a-4667-a8b7-55587481ee4b",
   "metadata": {},
   "outputs": [
    {
     "data": {
      "text/plain": [
       "8.999999999999998"
      ]
     },
     "execution_count": 38,
     "metadata": {},
     "output_type": "execute_result"
    }
   ],
   "source": [
    "# find the determiner\n",
    "np.linalg.det(b)"
   ]
  },
  {
   "cell_type": "markdown",
   "id": "215cb190-e9a5-47ea-908c-71cf71982c07",
   "metadata": {},
   "source": [
    "`Statistics`"
   ]
  },
  {
   "cell_type": "code",
   "execution_count": 39,
   "id": "60a0387c-c87b-40a8-ab04-b08cb9b946d9",
   "metadata": {},
   "outputs": [
    {
     "data": {
      "text/plain": [
       "array([[[52, 11, 34],\n",
       "        [95, 88, 14],\n",
       "        [42, 23, 30]],\n",
       "\n",
       "       [[81, 47, 32],\n",
       "        [64, 35, 99],\n",
       "        [ 4, 27, 46]],\n",
       "\n",
       "       [[68, 92, 40],\n",
       "        [45, 29, 85],\n",
       "        [48, 99, 24]]])"
      ]
     },
     "execution_count": 39,
     "metadata": {},
     "output_type": "execute_result"
    }
   ],
   "source": [
    "stats = np.random.randint(1,100,size=[3,3,3])\n",
    "stats"
   ]
  },
  {
   "cell_type": "code",
   "execution_count": 40,
   "id": "5bfe8582-6ec3-41d8-8738-9e47f9b83706",
   "metadata": {},
   "outputs": [
    {
     "data": {
      "text/plain": [
       "99"
      ]
     },
     "execution_count": 40,
     "metadata": {},
     "output_type": "execute_result"
    }
   ],
   "source": [
    "np.max(stats)"
   ]
  },
  {
   "cell_type": "code",
   "execution_count": 41,
   "id": "55c8c83c-12e0-4a14-928d-0c93bdc2b607",
   "metadata": {},
   "outputs": [
    {
     "data": {
      "text/plain": [
       "array([[95, 88, 34],\n",
       "       [81, 47, 99],\n",
       "       [68, 99, 85]])"
      ]
     },
     "execution_count": 41,
     "metadata": {},
     "output_type": "execute_result"
    }
   ],
   "source": [
    "np.max(stats,axis=1)"
   ]
  },
  {
   "cell_type": "code",
   "execution_count": 42,
   "id": "bd75289b-fbae-498c-9330-1720983e64d6",
   "metadata": {},
   "outputs": [
    {
     "data": {
      "text/plain": [
       "array([[81, 92, 40],\n",
       "       [95, 88, 99],\n",
       "       [48, 99, 46]])"
      ]
     },
     "execution_count": 42,
     "metadata": {},
     "output_type": "execute_result"
    }
   ],
   "source": [
    "np.max(stats,axis=0)"
   ]
  },
  {
   "cell_type": "code",
   "execution_count": 43,
   "id": "be97f036-e92f-4626-aa57-91b802ab8abf",
   "metadata": {},
   "outputs": [
    {
     "data": {
      "text/plain": [
       "1354"
      ]
     },
     "execution_count": 43,
     "metadata": {},
     "output_type": "execute_result"
    }
   ],
   "source": [
    "np.sum(stats)"
   ]
  },
  {
   "cell_type": "code",
   "execution_count": 44,
   "id": "aff144ce-8820-4334-b10f-1d7191e0f432",
   "metadata": {},
   "outputs": [
    {
     "data": {
      "text/plain": [
       "50.148148148148145"
      ]
     },
     "execution_count": 44,
     "metadata": {},
     "output_type": "execute_result"
    }
   ],
   "source": [
    "np.mean(stats)"
   ]
  },
  {
   "cell_type": "markdown",
   "id": "b2dcbf5f-5732-4240-ad29-6c61259ad629",
   "metadata": {},
   "source": [
    "Reogranize Data"
   ]
  },
  {
   "cell_type": "code",
   "execution_count": 45,
   "id": "c9fea0ec-70e3-4648-b5ad-99192357a7f3",
   "metadata": {},
   "outputs": [
    {
     "data": {
      "text/plain": [
       "array([[3, 8, 2, 6],\n",
       "       [7, 2, 4, 4]])"
      ]
     },
     "execution_count": 45,
     "metadata": {},
     "output_type": "execute_result"
    }
   ],
   "source": [
    "a = np.random.randint(1,9,size=[2,4])\n",
    "a"
   ]
  },
  {
   "cell_type": "code",
   "execution_count": 46,
   "id": "69c8d1e2-25cc-4916-b866-1ad21b6d2c5c",
   "metadata": {},
   "outputs": [
    {
     "data": {
      "text/plain": [
       "array([[3, 8],\n",
       "       [2, 6],\n",
       "       [7, 2],\n",
       "       [4, 4]])"
      ]
     },
     "execution_count": 46,
     "metadata": {},
     "output_type": "execute_result"
    }
   ],
   "source": [
    "a.reshape([4,2])"
   ]
  },
  {
   "cell_type": "code",
   "execution_count": 47,
   "id": "559ff934-be56-481c-8652-f9cbae490142",
   "metadata": {},
   "outputs": [
    {
     "data": {
      "text/plain": [
       "array([[[3, 8],\n",
       "        [2, 6]],\n",
       "\n",
       "       [[7, 2],\n",
       "        [4, 4]]])"
      ]
     },
     "execution_count": 47,
     "metadata": {},
     "output_type": "execute_result"
    }
   ],
   "source": [
    "a.reshape([2,2,2])\n",
    "# it will work untill the total items are not same"
   ]
  },
  {
   "cell_type": "code",
   "execution_count": 48,
   "id": "3e2da7da-d00e-4e66-9d63-25cedc172bc0",
   "metadata": {},
   "outputs": [
    {
     "name": "stdout",
     "output_type": "stream",
     "text": [
      "[[68 45 91 14]\n",
      " [99 20 21  7]]\n",
      "[[80 10 42 51]\n",
      " [76 48 29 39]]\n",
      "[[68 45 91 14]\n",
      " [99 20 21  7]\n",
      " [80 10 42 51]\n",
      " [76 48 29 39]\n",
      " [80 10 42 51]\n",
      " [76 48 29 39]\n",
      " [68 45 91 14]\n",
      " [99 20 21  7]\n",
      " [68 45 91 14]\n",
      " [99 20 21  7]]\n"
     ]
    }
   ],
   "source": [
    "a = np.random.randint(1,100,size=[2,4])\n",
    "b = np.random.randint(1,100,size=[2,4])\n",
    "print(a)\n",
    "print(b)\n",
    "c = np.vstack([a,b,b,a,a]) #vertically stacking the arrays\n",
    "print(c)"
   ]
  },
  {
   "cell_type": "code",
   "execution_count": 49,
   "id": "4685f892-6d3a-4bf5-a3fe-2091d0c16e99",
   "metadata": {},
   "outputs": [
    {
     "name": "stdout",
     "output_type": "stream",
     "text": [
      "[[35 61 98 74]\n",
      " [57 20 32 61]]\n",
      "[[36 51 12 97]\n",
      " [86 94 83 85]]\n",
      "[[35 61 98 74 36 51 12 97]\n",
      " [57 20 32 61 86 94 83 85]]\n"
     ]
    }
   ],
   "source": [
    "a = np.random.randint(1,100,size=[2,4])\n",
    "b = np.random.randint(1,100,size=[2,4])\n",
    "print(a)\n",
    "print(b)\n",
    "c = np.hstack([a,b]) #horizontally stacking the arrays\n",
    "print(c)"
   ]
  },
  {
   "cell_type": "code",
   "execution_count": 55,
   "id": "25bbfa6c-7d92-4f5d-9a54-fc0b66e40313",
   "metadata": {},
   "outputs": [
    {
     "data": {
      "text/plain": [
       "array([[  1,  13,  21,  11, 196,  75,   4,   3,  34,   6,   7,   8,   0,\n",
       "          1,   2,   3,   4,   5],\n",
       "       [  3,  42,  12,  33, 766,  75,   4,  55,   6,   4,   3,   4,   5,\n",
       "          6,   7,   0,  11,  12],\n",
       "       [  1,  22,  33,  11, 999,  11,   2,   1,  78,   0,   1,   2,   9,\n",
       "          8,   7,   1,  76,  88]])"
      ]
     },
     "execution_count": 55,
     "metadata": {},
     "output_type": "execute_result"
    }
   ],
   "source": [
    "#Data load from data.txt file\n",
    "\n",
    "new_file = np.genfromtxt(\"../dataset/data.txt\",delimiter=\",\")\n",
    "new_file = new_file.astype(\"int32\")\n",
    "new_file"
   ]
  },
  {
   "cell_type": "code",
   "execution_count": 298,
   "id": "51a6e975-ef05-4900-b195-46450b8e40d7",
   "metadata": {},
   "outputs": [
    {
     "data": {
      "text/plain": [
       "array([[False, False, False, False,  True,  True, False, False, False,\n",
       "        False, False, False, False, False, False, False, False, False],\n",
       "       [False, False, False, False,  True,  True, False,  True, False,\n",
       "        False, False, False, False, False, False, False, False, False],\n",
       "       [False, False, False, False,  True, False, False, False,  True,\n",
       "        False, False, False, False, False, False, False,  True,  True]])"
      ]
     },
     "execution_count": 298,
     "metadata": {},
     "output_type": "execute_result"
    }
   ],
   "source": [
    "#boolean masking\n",
    "new_file > 50"
   ]
  },
  {
   "cell_type": "code",
   "execution_count": 299,
   "id": "caf61de7-d373-4c16-b961-930500c41db5",
   "metadata": {},
   "outputs": [
    {
     "data": {
      "text/plain": [
       "array([75, 75, 55, 78, 76, 88])"
      ]
     },
     "execution_count": 299,
     "metadata": {},
     "output_type": "execute_result"
    }
   ],
   "source": [
    "new_file[(new_file > 50) & (new_file < 100)]"
   ]
  },
  {
   "attachments": {
    "deba2d8c-c886-49f0-bf0b-3cd825a0d9c4.png": {
     "image/png": "[encoded data removed]"
    }
   },
   "cell_type": "markdown",
   "id": "0dce3d6f-552a-44c5-93b5-ead4441b787a",
   "metadata": {},
   "source": [
    "# Practice Question\n",
    "`Make 3 array from this picture separated with 3 color, and use the index method`\n",
    "\n",
    "![image.png](attachment:deba2d8c-c886-49f0-bf0b-3cd825a0d9c4.png)"
   ]
  },
  {
   "cell_type": "code",
   "execution_count": 300,
   "id": "57c3be14-cddd-4132-b91b-f3ee7635ef87",
   "metadata": {},
   "outputs": [
    {
     "name": "stdout",
     "output_type": "stream",
     "text": [
      "-------- Question Array ----------\n",
      "[[ 1  2  3  4  5]\n",
      " [ 6  7  8  9 10]\n",
      " [11 12 13 14 15]\n",
      " [16 17 18 19 20]\n",
      " [21 22 23 24 25]\n",
      " [26 27 28 29 30]]\n",
      "\n",
      "-------- Red ----------\n",
      "[[ 4  5]\n",
      " [24 25]\n",
      " [29 30]]\n",
      "\n",
      "-------- Blue ----------\n",
      "[[11 12]\n",
      " [16 17]]\n",
      "\n",
      "-------- Green ----------\n",
      "[ 2  8 14 20]\n",
      "\n"
     ]
    }
   ],
   "source": [
    "# making the array using loop\n",
    "arr = np.zeros([6,5])\n",
    "num = 1\n",
    "for i in range(6):\n",
    "    for j in range(5):\n",
    "        arr[i,j] = num\n",
    "        num += 1\n",
    "arr = arr.astype('int32')\n",
    "print(\"-------- Question Array ----------\")\n",
    "print(arr,end=\"\\n\\n\")\n",
    "        \n",
    "print(\"-------- Red ----------\")\n",
    "red_arr = np.array(arr[[0,-2,-1],3:])\n",
    "print(red_arr,end=\"\\n\\n\")\n",
    "print(\"-------- Blue ----------\")\n",
    "blue_arr = np.array(arr[[2,3],:2])\n",
    "print(blue_arr,end=\"\\n\\n\")\n",
    "print(\"-------- Green ----------\")\n",
    "green_arr = np.array(arr[[0,1,2,3],[1,2,3,4]])\n",
    "print(green_arr,end=\"\\n\\n\")"
   ]
  },
  {
   "cell_type": "markdown",
   "id": "66991a32-fd71-479c-964f-533750a8a2b0",
   "metadata": {},
   "source": [
    "# Thank you Everyone for being with Us.\n",
    "### Upnext - We will learn `Pandas`\n",
    "#### I will provide 100 Practice Question by using `Numpy` and `Panda`\n",
    "`Thanks to Keith Galli for Providing some resources`\n",
    "\n",
    "`Author - Wasif Hossain <wasif.hx@gmail.com>`\n"
   ]
  },
  {
   "cell_type": "code",
   "execution_count": null,
   "id": "b66bc0b9-b990-4f5e-a122-bf2dbf2aa389",
   "metadata": {},
   "outputs": [],
   "source": []
  }
 ],
 "metadata": {
  "kernelspec": {
   "display_name": "Python 3 (ipykernel)",
   "language": "python",
   "name": "python3"
  },
  "language_info": {
   "codemirror_mode": {
    "name": "ipython",
    "version": 3
   },
   "file_extension": ".py",
   "mimetype": "text/x-python",
   "name": "python",
   "nbconvert_exporter": "python",
   "pygments_lexer": "ipython3",
   "version": "3.12.6"
  },
  "widgets": {
   "application/vnd.jupyter.widget-state+json": {
    "state": {},
    "version_major": 2,
    "version_minor": 0
   }
  }
 },
 "nbformat": 4,
 "nbformat_minor": 5
}
